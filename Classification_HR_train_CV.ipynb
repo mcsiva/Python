{
 "cells": [
  {
   "cell_type": "code",
   "execution_count": 28,
   "metadata": {},
   "outputs": [],
   "source": [
    "import pandas as pd\n",
    "import numpy as np\n",
    "from sklearn.metrics import roc_auc_score, f1_score, roc_curve\n",
    "from sklearn.ensemble import RandomForestClassifier\n",
    "from sklearn.tree import DecisionTreeClassifier\n",
    "from sklearn.model_selection import train_test_split\n",
    "from sklearn.model_selection import GridSearchCV\n",
    "import matplotlib.pyplot as plt"
   ]
  },
  {
   "cell_type": "code",
   "execution_count": 4,
   "metadata": {},
   "outputs": [],
   "source": [
    "df_train = pd.read_csv('C:/Users/M.S.Chandrashekar/Desktop/Python/Kaggle_DS/archive/cl_hr.csv')"
   ]
  },
  {
   "cell_type": "code",
   "execution_count": 5,
   "metadata": {},
   "outputs": [
    {
     "data": {
      "text/html": [
       "<div>\n",
       "<style scoped>\n",
       "    .dataframe tbody tr th:only-of-type {\n",
       "        vertical-align: middle;\n",
       "    }\n",
       "\n",
       "    .dataframe tbody tr th {\n",
       "        vertical-align: top;\n",
       "    }\n",
       "\n",
       "    .dataframe thead th {\n",
       "        text-align: right;\n",
       "    }\n",
       "</style>\n",
       "<table border=\"1\" class=\"dataframe\">\n",
       "  <thead>\n",
       "    <tr style=\"text-align: right;\">\n",
       "      <th></th>\n",
       "      <th>Unnamed: 0</th>\n",
       "      <th>enrollee_id</th>\n",
       "      <th>city</th>\n",
       "      <th>city_development_index</th>\n",
       "      <th>gender</th>\n",
       "      <th>relevent_experience</th>\n",
       "      <th>enrolled_university</th>\n",
       "      <th>education_level</th>\n",
       "      <th>major_discipline</th>\n",
       "      <th>experience</th>\n",
       "      <th>...</th>\n",
       "      <th>rel_exp_0</th>\n",
       "      <th>mj_dp_A</th>\n",
       "      <th>mj_dp_B</th>\n",
       "      <th>mj_dp_H</th>\n",
       "      <th>mj_dp_N</th>\n",
       "      <th>mj_dp_O</th>\n",
       "      <th>mj_dp_S</th>\n",
       "      <th>exp_scale</th>\n",
       "      <th>compsize_scale</th>\n",
       "      <th>lst_nj_scl</th>\n",
       "    </tr>\n",
       "  </thead>\n",
       "  <tbody>\n",
       "    <tr>\n",
       "      <th>0</th>\n",
       "      <td>0</td>\n",
       "      <td>8949</td>\n",
       "      <td>city_103</td>\n",
       "      <td>0.920</td>\n",
       "      <td>Male</td>\n",
       "      <td>Has relevent experience</td>\n",
       "      <td>no_enrollment</td>\n",
       "      <td>Graduate</td>\n",
       "      <td>STEM</td>\n",
       "      <td>20</td>\n",
       "      <td>...</td>\n",
       "      <td>0</td>\n",
       "      <td>0</td>\n",
       "      <td>0</td>\n",
       "      <td>0</td>\n",
       "      <td>0</td>\n",
       "      <td>0</td>\n",
       "      <td>1</td>\n",
       "      <td>1.000000</td>\n",
       "      <td>0.210998</td>\n",
       "      <td>0.25</td>\n",
       "    </tr>\n",
       "    <tr>\n",
       "      <th>1</th>\n",
       "      <td>1</td>\n",
       "      <td>29725</td>\n",
       "      <td>city_40</td>\n",
       "      <td>0.776</td>\n",
       "      <td>Male</td>\n",
       "      <td>No relevent experience</td>\n",
       "      <td>no_enrollment</td>\n",
       "      <td>Graduate</td>\n",
       "      <td>STEM</td>\n",
       "      <td>15</td>\n",
       "      <td>...</td>\n",
       "      <td>1</td>\n",
       "      <td>0</td>\n",
       "      <td>0</td>\n",
       "      <td>0</td>\n",
       "      <td>0</td>\n",
       "      <td>0</td>\n",
       "      <td>1</td>\n",
       "      <td>0.736842</td>\n",
       "      <td>0.009340</td>\n",
       "      <td>1.00</td>\n",
       "    </tr>\n",
       "    <tr>\n",
       "      <th>2</th>\n",
       "      <td>2</td>\n",
       "      <td>11561</td>\n",
       "      <td>city_21</td>\n",
       "      <td>0.624</td>\n",
       "      <td>Male</td>\n",
       "      <td>No relevent experience</td>\n",
       "      <td>Full time course</td>\n",
       "      <td>Graduate</td>\n",
       "      <td>STEM</td>\n",
       "      <td>5</td>\n",
       "      <td>...</td>\n",
       "      <td>1</td>\n",
       "      <td>0</td>\n",
       "      <td>0</td>\n",
       "      <td>0</td>\n",
       "      <td>0</td>\n",
       "      <td>0</td>\n",
       "      <td>1</td>\n",
       "      <td>0.210526</td>\n",
       "      <td>0.210998</td>\n",
       "      <td>0.00</td>\n",
       "    </tr>\n",
       "    <tr>\n",
       "      <th>3</th>\n",
       "      <td>3</td>\n",
       "      <td>33241</td>\n",
       "      <td>city_115</td>\n",
       "      <td>0.789</td>\n",
       "      <td>Male</td>\n",
       "      <td>No relevent experience</td>\n",
       "      <td>no_enrollment</td>\n",
       "      <td>Graduate</td>\n",
       "      <td>Business Degree</td>\n",
       "      <td>1</td>\n",
       "      <td>...</td>\n",
       "      <td>1</td>\n",
       "      <td>0</td>\n",
       "      <td>1</td>\n",
       "      <td>0</td>\n",
       "      <td>0</td>\n",
       "      <td>0</td>\n",
       "      <td>0</td>\n",
       "      <td>0.000000</td>\n",
       "      <td>0.210998</td>\n",
       "      <td>0.00</td>\n",
       "    </tr>\n",
       "    <tr>\n",
       "      <th>4</th>\n",
       "      <td>4</td>\n",
       "      <td>666</td>\n",
       "      <td>city_162</td>\n",
       "      <td>0.767</td>\n",
       "      <td>Male</td>\n",
       "      <td>Has relevent experience</td>\n",
       "      <td>no_enrollment</td>\n",
       "      <td>Masters</td>\n",
       "      <td>STEM</td>\n",
       "      <td>20</td>\n",
       "      <td>...</td>\n",
       "      <td>0</td>\n",
       "      <td>0</td>\n",
       "      <td>0</td>\n",
       "      <td>0</td>\n",
       "      <td>0</td>\n",
       "      <td>0</td>\n",
       "      <td>1</td>\n",
       "      <td>1.000000</td>\n",
       "      <td>0.009340</td>\n",
       "      <td>1.00</td>\n",
       "    </tr>\n",
       "  </tbody>\n",
       "</table>\n",
       "<p>5 rows × 31 columns</p>\n",
       "</div>"
      ],
      "text/plain": [
       "   Unnamed: 0  enrollee_id      city  city_development_index gender  \\\n",
       "0           0         8949  city_103                   0.920   Male   \n",
       "1           1        29725   city_40                   0.776   Male   \n",
       "2           2        11561   city_21                   0.624   Male   \n",
       "3           3        33241  city_115                   0.789   Male   \n",
       "4           4          666  city_162                   0.767   Male   \n",
       "\n",
       "       relevent_experience enrolled_university education_level  \\\n",
       "0  Has relevent experience       no_enrollment        Graduate   \n",
       "1   No relevent experience       no_enrollment        Graduate   \n",
       "2   No relevent experience    Full time course        Graduate   \n",
       "3   No relevent experience       no_enrollment        Graduate   \n",
       "4  Has relevent experience       no_enrollment         Masters   \n",
       "\n",
       "  major_discipline  experience  ...  rel_exp_0  mj_dp_A  mj_dp_B  mj_dp_H  \\\n",
       "0             STEM          20  ...          0        0        0        0   \n",
       "1             STEM          15  ...          1        0        0        0   \n",
       "2             STEM           5  ...          1        0        0        0   \n",
       "3  Business Degree           1  ...          1        0        1        0   \n",
       "4             STEM          20  ...          0        0        0        0   \n",
       "\n",
       "   mj_dp_N  mj_dp_O  mj_dp_S  exp_scale  compsize_scale  lst_nj_scl  \n",
       "0        0        0        1   1.000000        0.210998        0.25  \n",
       "1        0        0        1   0.736842        0.009340        1.00  \n",
       "2        0        0        1   0.210526        0.210998        0.00  \n",
       "3        0        0        0   0.000000        0.210998        0.00  \n",
       "4        0        0        1   1.000000        0.009340        1.00  \n",
       "\n",
       "[5 rows x 31 columns]"
      ]
     },
     "execution_count": 5,
     "metadata": {},
     "output_type": "execute_result"
    }
   ],
   "source": [
    "df_train.head()"
   ]
  },
  {
   "cell_type": "code",
   "execution_count": 6,
   "metadata": {},
   "outputs": [
    {
     "data": {
      "text/html": [
       "<div>\n",
       "<style scoped>\n",
       "    .dataframe tbody tr th:only-of-type {\n",
       "        vertical-align: middle;\n",
       "    }\n",
       "\n",
       "    .dataframe tbody tr th {\n",
       "        vertical-align: top;\n",
       "    }\n",
       "\n",
       "    .dataframe thead th {\n",
       "        text-align: right;\n",
       "    }\n",
       "</style>\n",
       "<table border=\"1\" class=\"dataframe\">\n",
       "  <thead>\n",
       "    <tr style=\"text-align: right;\">\n",
       "      <th></th>\n",
       "      <th>Unnamed: 0</th>\n",
       "      <th>enrollee_id</th>\n",
       "      <th>city_development_index</th>\n",
       "      <th>experience</th>\n",
       "      <th>company_size</th>\n",
       "      <th>last_new_job</th>\n",
       "      <th>training_hours</th>\n",
       "      <th>target</th>\n",
       "      <th>F</th>\n",
       "      <th>M</th>\n",
       "      <th>...</th>\n",
       "      <th>rel_exp_0</th>\n",
       "      <th>mj_dp_A</th>\n",
       "      <th>mj_dp_B</th>\n",
       "      <th>mj_dp_H</th>\n",
       "      <th>mj_dp_N</th>\n",
       "      <th>mj_dp_O</th>\n",
       "      <th>mj_dp_S</th>\n",
       "      <th>exp_scale</th>\n",
       "      <th>compsize_scale</th>\n",
       "      <th>lst_nj_scl</th>\n",
       "    </tr>\n",
       "  </thead>\n",
       "  <tbody>\n",
       "    <tr>\n",
       "      <th>count</th>\n",
       "      <td>19158.000000</td>\n",
       "      <td>19158.000000</td>\n",
       "      <td>19158.000000</td>\n",
       "      <td>19158.000000</td>\n",
       "      <td>13220.000000</td>\n",
       "      <td>19158.000000</td>\n",
       "      <td>19158.000000</td>\n",
       "      <td>19158.000000</td>\n",
       "      <td>19158.000000</td>\n",
       "      <td>19158.000000</td>\n",
       "      <td>...</td>\n",
       "      <td>19158.000000</td>\n",
       "      <td>19158.000000</td>\n",
       "      <td>19158.000000</td>\n",
       "      <td>19158.000000</td>\n",
       "      <td>19158.000000</td>\n",
       "      <td>19158.000000</td>\n",
       "      <td>19158.000000</td>\n",
       "      <td>19158.000000</td>\n",
       "      <td>19158.000000</td>\n",
       "      <td>19158.000000</td>\n",
       "    </tr>\n",
       "    <tr>\n",
       "      <th>mean</th>\n",
       "      <td>9578.500000</td>\n",
       "      <td>16875.358179</td>\n",
       "      <td>0.828848</td>\n",
       "      <td>9.924992</td>\n",
       "      <td>1835.101362</td>\n",
       "      <td>1.806608</td>\n",
       "      <td>65.366896</td>\n",
       "      <td>0.249348</td>\n",
       "      <td>0.064621</td>\n",
       "      <td>0.925410</td>\n",
       "      <td>...</td>\n",
       "      <td>0.280092</td>\n",
       "      <td>0.013206</td>\n",
       "      <td>0.017069</td>\n",
       "      <td>0.034920</td>\n",
       "      <td>0.011640</td>\n",
       "      <td>0.019887</td>\n",
       "      <td>0.903278</td>\n",
       "      <td>0.469736</td>\n",
       "      <td>0.233893</td>\n",
       "      <td>0.451652</td>\n",
       "    </tr>\n",
       "    <tr>\n",
       "      <th>std</th>\n",
       "      <td>5530.582564</td>\n",
       "      <td>9616.292592</td>\n",
       "      <td>0.123362</td>\n",
       "      <td>6.475460</td>\n",
       "      <td>2880.610482</td>\n",
       "      <td>1.368069</td>\n",
       "      <td>60.058462</td>\n",
       "      <td>0.432647</td>\n",
       "      <td>0.245861</td>\n",
       "      <td>0.262736</td>\n",
       "      <td>...</td>\n",
       "      <td>0.449056</td>\n",
       "      <td>0.114159</td>\n",
       "      <td>0.129530</td>\n",
       "      <td>0.183582</td>\n",
       "      <td>0.107262</td>\n",
       "      <td>0.139617</td>\n",
       "      <td>0.295587</td>\n",
       "      <td>0.340814</td>\n",
       "      <td>0.319631</td>\n",
       "      <td>0.342017</td>\n",
       "    </tr>\n",
       "    <tr>\n",
       "      <th>min</th>\n",
       "      <td>0.000000</td>\n",
       "      <td>1.000000</td>\n",
       "      <td>0.448000</td>\n",
       "      <td>1.000000</td>\n",
       "      <td>5.000000</td>\n",
       "      <td>0.000000</td>\n",
       "      <td>1.000000</td>\n",
       "      <td>0.000000</td>\n",
       "      <td>0.000000</td>\n",
       "      <td>0.000000</td>\n",
       "      <td>...</td>\n",
       "      <td>0.000000</td>\n",
       "      <td>0.000000</td>\n",
       "      <td>0.000000</td>\n",
       "      <td>0.000000</td>\n",
       "      <td>0.000000</td>\n",
       "      <td>0.000000</td>\n",
       "      <td>0.000000</td>\n",
       "      <td>0.000000</td>\n",
       "      <td>0.000000</td>\n",
       "      <td>0.000000</td>\n",
       "    </tr>\n",
       "    <tr>\n",
       "      <th>25%</th>\n",
       "      <td>4789.250000</td>\n",
       "      <td>8554.250000</td>\n",
       "      <td>0.740000</td>\n",
       "      <td>4.000000</td>\n",
       "      <td>75.000000</td>\n",
       "      <td>1.000000</td>\n",
       "      <td>23.000000</td>\n",
       "      <td>0.000000</td>\n",
       "      <td>0.000000</td>\n",
       "      <td>1.000000</td>\n",
       "      <td>...</td>\n",
       "      <td>0.000000</td>\n",
       "      <td>0.000000</td>\n",
       "      <td>0.000000</td>\n",
       "      <td>0.000000</td>\n",
       "      <td>0.000000</td>\n",
       "      <td>0.000000</td>\n",
       "      <td>1.000000</td>\n",
       "      <td>0.157895</td>\n",
       "      <td>0.009340</td>\n",
       "      <td>0.250000</td>\n",
       "    </tr>\n",
       "    <tr>\n",
       "      <th>50%</th>\n",
       "      <td>9578.500000</td>\n",
       "      <td>16982.500000</td>\n",
       "      <td>0.903000</td>\n",
       "      <td>9.000000</td>\n",
       "      <td>250.000000</td>\n",
       "      <td>1.000000</td>\n",
       "      <td>47.000000</td>\n",
       "      <td>0.000000</td>\n",
       "      <td>0.000000</td>\n",
       "      <td>1.000000</td>\n",
       "      <td>...</td>\n",
       "      <td>0.000000</td>\n",
       "      <td>0.000000</td>\n",
       "      <td>0.000000</td>\n",
       "      <td>0.000000</td>\n",
       "      <td>0.000000</td>\n",
       "      <td>0.000000</td>\n",
       "      <td>1.000000</td>\n",
       "      <td>0.421053</td>\n",
       "      <td>0.210998</td>\n",
       "      <td>0.250000</td>\n",
       "    </tr>\n",
       "    <tr>\n",
       "      <th>75%</th>\n",
       "      <td>14367.750000</td>\n",
       "      <td>25169.750000</td>\n",
       "      <td>0.920000</td>\n",
       "      <td>16.000000</td>\n",
       "      <td>2500.000000</td>\n",
       "      <td>3.000000</td>\n",
       "      <td>88.000000</td>\n",
       "      <td>0.000000</td>\n",
       "      <td>0.000000</td>\n",
       "      <td>1.000000</td>\n",
       "      <td>...</td>\n",
       "      <td>1.000000</td>\n",
       "      <td>0.000000</td>\n",
       "      <td>0.000000</td>\n",
       "      <td>0.000000</td>\n",
       "      <td>0.000000</td>\n",
       "      <td>0.000000</td>\n",
       "      <td>1.000000</td>\n",
       "      <td>0.789474</td>\n",
       "      <td>0.210998</td>\n",
       "      <td>0.750000</td>\n",
       "    </tr>\n",
       "    <tr>\n",
       "      <th>max</th>\n",
       "      <td>19157.000000</td>\n",
       "      <td>33380.000000</td>\n",
       "      <td>0.949000</td>\n",
       "      <td>20.000000</td>\n",
       "      <td>7500.000000</td>\n",
       "      <td>4.000000</td>\n",
       "      <td>336.000000</td>\n",
       "      <td>1.000000</td>\n",
       "      <td>1.000000</td>\n",
       "      <td>1.000000</td>\n",
       "      <td>...</td>\n",
       "      <td>1.000000</td>\n",
       "      <td>1.000000</td>\n",
       "      <td>1.000000</td>\n",
       "      <td>1.000000</td>\n",
       "      <td>1.000000</td>\n",
       "      <td>1.000000</td>\n",
       "      <td>1.000000</td>\n",
       "      <td>1.000000</td>\n",
       "      <td>1.000000</td>\n",
       "      <td>1.000000</td>\n",
       "    </tr>\n",
       "  </tbody>\n",
       "</table>\n",
       "<p>8 rows × 25 columns</p>\n",
       "</div>"
      ],
      "text/plain": [
       "         Unnamed: 0   enrollee_id  city_development_index    experience  \\\n",
       "count  19158.000000  19158.000000            19158.000000  19158.000000   \n",
       "mean    9578.500000  16875.358179                0.828848      9.924992   \n",
       "std     5530.582564   9616.292592                0.123362      6.475460   \n",
       "min        0.000000      1.000000                0.448000      1.000000   \n",
       "25%     4789.250000   8554.250000                0.740000      4.000000   \n",
       "50%     9578.500000  16982.500000                0.903000      9.000000   \n",
       "75%    14367.750000  25169.750000                0.920000     16.000000   \n",
       "max    19157.000000  33380.000000                0.949000     20.000000   \n",
       "\n",
       "       company_size  last_new_job  training_hours        target             F  \\\n",
       "count  13220.000000  19158.000000    19158.000000  19158.000000  19158.000000   \n",
       "mean    1835.101362      1.806608       65.366896      0.249348      0.064621   \n",
       "std     2880.610482      1.368069       60.058462      0.432647      0.245861   \n",
       "min        5.000000      0.000000        1.000000      0.000000      0.000000   \n",
       "25%       75.000000      1.000000       23.000000      0.000000      0.000000   \n",
       "50%      250.000000      1.000000       47.000000      0.000000      0.000000   \n",
       "75%     2500.000000      3.000000       88.000000      0.000000      0.000000   \n",
       "max     7500.000000      4.000000      336.000000      1.000000      1.000000   \n",
       "\n",
       "                  M  ...     rel_exp_0       mj_dp_A       mj_dp_B  \\\n",
       "count  19158.000000  ...  19158.000000  19158.000000  19158.000000   \n",
       "mean       0.925410  ...      0.280092      0.013206      0.017069   \n",
       "std        0.262736  ...      0.449056      0.114159      0.129530   \n",
       "min        0.000000  ...      0.000000      0.000000      0.000000   \n",
       "25%        1.000000  ...      0.000000      0.000000      0.000000   \n",
       "50%        1.000000  ...      0.000000      0.000000      0.000000   \n",
       "75%        1.000000  ...      1.000000      0.000000      0.000000   \n",
       "max        1.000000  ...      1.000000      1.000000      1.000000   \n",
       "\n",
       "            mj_dp_H       mj_dp_N       mj_dp_O       mj_dp_S     exp_scale  \\\n",
       "count  19158.000000  19158.000000  19158.000000  19158.000000  19158.000000   \n",
       "mean       0.034920      0.011640      0.019887      0.903278      0.469736   \n",
       "std        0.183582      0.107262      0.139617      0.295587      0.340814   \n",
       "min        0.000000      0.000000      0.000000      0.000000      0.000000   \n",
       "25%        0.000000      0.000000      0.000000      1.000000      0.157895   \n",
       "50%        0.000000      0.000000      0.000000      1.000000      0.421053   \n",
       "75%        0.000000      0.000000      0.000000      1.000000      0.789474   \n",
       "max        1.000000      1.000000      1.000000      1.000000      1.000000   \n",
       "\n",
       "       compsize_scale    lst_nj_scl  \n",
       "count    19158.000000  19158.000000  \n",
       "mean         0.233893      0.451652  \n",
       "std          0.319631      0.342017  \n",
       "min          0.000000      0.000000  \n",
       "25%          0.009340      0.250000  \n",
       "50%          0.210998      0.250000  \n",
       "75%          0.210998      0.750000  \n",
       "max          1.000000      1.000000  \n",
       "\n",
       "[8 rows x 25 columns]"
      ]
     },
     "execution_count": 6,
     "metadata": {},
     "output_type": "execute_result"
    }
   ],
   "source": [
    "df_train.describe()"
   ]
  },
  {
   "cell_type": "code",
   "execution_count": 10,
   "metadata": {},
   "outputs": [],
   "source": [
    "feature_train = ['city_development_index','F', 'M', 'O', 'EU_2', 'EU_1', 'EU_0','rel_exp_1', 'rel_exp_0', 'mj_dp_A', 'mj_dp_B', 'mj_dp_H', 'mj_dp_N', 'mj_dp_O', 'mj_dp_S', 'exp_scale', 'compsize_scale', 'lst_nj_scl']\n",
    "\n",
    "X = df_train[feature_train]\n",
    "\n",
    "y = df_train['target']"
   ]
  },
  {
   "cell_type": "code",
   "execution_count": 17,
   "metadata": {},
   "outputs": [
    {
     "data": {
      "text/plain": [
       "(13410, 18)"
      ]
     },
     "execution_count": 17,
     "metadata": {},
     "output_type": "execute_result"
    }
   ],
   "source": [
    "X_train, X_test, y_train, y_test = train_test_split(X, y, test_size=0.3)\n",
    "\n",
    "X_train.shape"
   ]
  },
  {
   "cell_type": "markdown",
   "metadata": {},
   "source": [
    "### ROC AUC Random Forest "
   ]
  },
  {
   "cell_type": "code",
   "execution_count": 22,
   "metadata": {},
   "outputs": [
    {
     "data": {
      "text/plain": [
       "{'n_estimators': 50}"
      ]
     },
     "execution_count": 22,
     "metadata": {},
     "output_type": "execute_result"
    }
   ],
   "source": [
    "params_RF = {'n_estimators':[5,10,30,50]}\n",
    "\n",
    "RF_CV = GridSearchCV(RandomForestClassifier(), params_RF, cv=5)\n",
    "\n",
    "RF_CV.fit(X_train,y_train)\n",
    "\n",
    "RF_CV.best_params_"
   ]
  },
  {
   "cell_type": "code",
   "execution_count": 53,
   "metadata": {},
   "outputs": [
    {
     "data": {
      "text/plain": [
       "0.746514700547056"
      ]
     },
     "execution_count": 53,
     "metadata": {},
     "output_type": "execute_result"
    }
   ],
   "source": [
    "RF_model = RandomForestClassifier(n_estimators =50)\n",
    "\n",
    "RF_model.fit(X_train, y_train)\n",
    "\n",
    "y_pred = RF_model.predict(X_test)\n",
    "\n",
    "y_pred_p = RF_model.predict_proba(X_test)\n",
    "\n",
    "roc_auc_score(y_test, y_pred_p[:,1])"
   ]
  },
  {
   "cell_type": "code",
   "execution_count": 54,
   "metadata": {},
   "outputs": [
    {
     "name": "stdout",
     "output_type": "stream",
     "text": [
      "Feature: 0, Score: 0.41910\n",
      "Feature: 1, Score: 0.00829\n",
      "Feature: 2, Score: 0.00875\n",
      "Feature: 3, Score: 0.00303\n",
      "Feature: 4, Score: 0.01417\n",
      "Feature: 5, Score: 0.00643\n",
      "Feature: 6, Score: 0.01127\n",
      "Feature: 7, Score: 0.01018\n",
      "Feature: 8, Score: 0.01034\n",
      "Feature: 9, Score: 0.00401\n",
      "Feature: 10, Score: 0.00418\n",
      "Feature: 11, Score: 0.00594\n",
      "Feature: 12, Score: 0.00323\n",
      "Feature: 13, Score: 0.00494\n",
      "Feature: 14, Score: 0.00869\n",
      "Feature: 15, Score: 0.24014\n",
      "Feature: 16, Score: 0.14684\n",
      "Feature: 17, Score: 0.09049\n"
     ]
    }
   ],
   "source": [
    "importance_RF = RF_model.feature_importances_\n",
    "\n",
    "for i,v in enumerate(importance_RF):\n",
    "    print('Feature: %0d, Score: %.5f' % (i,v))"
   ]
  },
  {
   "cell_type": "code",
   "execution_count": 55,
   "metadata": {},
   "outputs": [
    {
     "data": {
      "text/plain": [
       "{'city_development_index': 0.41910225220885194,\n",
       " 'F': 0.008285041244359444,\n",
       " 'M': 0.008745017177221547,\n",
       " 'O': 0.003025960152682762,\n",
       " 'EU_2': 0.014168460078172075,\n",
       " 'EU_1': 0.0064262045191218285,\n",
       " 'EU_0': 0.011265910363328625,\n",
       " 'rel_exp_1': 0.010178592212154922,\n",
       " 'rel_exp_0': 0.010340626987066743,\n",
       " 'mj_dp_A': 0.004010111141742772,\n",
       " 'mj_dp_B': 0.0041827988567128115,\n",
       " 'mj_dp_H': 0.005939482883063138,\n",
       " 'mj_dp_N': 0.003229698563303782,\n",
       " 'mj_dp_O': 0.004935507975630055,\n",
       " 'mj_dp_S': 0.0086936043914612,\n",
       " 'exp_scale': 0.24013627838826515,\n",
       " 'compsize_scale': 0.14684359141571993,\n",
       " 'lst_nj_scl': 0.09049086144114142}"
      ]
     },
     "execution_count": 55,
     "metadata": {},
     "output_type": "execute_result"
    }
   ],
   "source": [
    "scores_RF = np.linspace(1,2,18)\n",
    "for i,v in enumerate(importance_RF):\n",
    "    scores_RF[i] = v\n",
    "scores_RF\n",
    "\n",
    "score_dict_RF = dict(zip(feature_train,scores_RF))\n",
    "\n",
    "score_dict_RF"
   ]
  },
  {
   "cell_type": "code",
   "execution_count": 56,
   "metadata": {},
   "outputs": [
    {
     "data": {
      "text/plain": [
       "<BarContainer object of 18 artists>"
      ]
     },
     "execution_count": 56,
     "metadata": {},
     "output_type": "execute_result"
    },
    {
     "data": {
      "image/png": "[encoded data removed]",
      "text/plain": [
       "<Figure size 432x288 with 1 Axes>"
      ]
     },
     "metadata": {
      "needs_background": "light"
     },
     "output_type": "display_data"
    }
   ],
   "source": [
    " plt.barh(list(score_dict_RF.keys()),list(score_dict_RF.values()))"
   ]
  },
  {
   "cell_type": "markdown",
   "metadata": {},
   "source": [
    "### ROC Curve Random Forest "
   ]
  },
  {
   "cell_type": "code",
   "execution_count": 57,
   "metadata": {},
   "outputs": [
    {
     "data": {
      "text/plain": [
       "[<matplotlib.lines.Line2D at 0x1af5d84d910>]"
      ]
     },
     "execution_count": 57,
     "metadata": {},
     "output_type": "execute_result"
    },
    {
     "data": {
      "image/png": "[encoded data removed]",
      "text/plain": [
       "<Figure size 432x288 with 1 Axes>"
      ]
     },
     "metadata": {
      "needs_background": "light"
     },
     "output_type": "display_data"
    }
   ],
   "source": [
    "fpr_RF, tpr_RF, thr_RF = roc_curve(y_test, y_pred)\n",
    "\n",
    "plt.plot(fpr_RF, tpr_RF, marker = '.')\n",
    "plt.plot([0,1],[0,1])"
   ]
  },
  {
   "cell_type": "markdown",
   "metadata": {},
   "source": [
    "### ROC AUC Decision Tree "
   ]
  },
  {
   "cell_type": "code",
   "execution_count": 31,
   "metadata": {},
   "outputs": [
    {
     "data": {
      "text/plain": [
       "{'criterion': 'entropy'}"
      ]
     },
     "execution_count": 31,
     "metadata": {},
     "output_type": "execute_result"
    }
   ],
   "source": [
    "params = {'criterion': ['gini', 'entropy']}\n",
    "\n",
    "DTC = GridSearchCV(DecisionTreeClassifier(),params, cv = 5)\n",
    "\n",
    "DTC.fit(X_train,y_train)\n",
    "\n",
    "DTC.best_params_"
   ]
  },
  {
   "cell_type": "code",
   "execution_count": 68,
   "metadata": {},
   "outputs": [
    {
     "data": {
      "text/plain": [
       "0.6630479402489498"
      ]
     },
     "execution_count": 68,
     "metadata": {},
     "output_type": "execute_result"
    }
   ],
   "source": [
    "DT_CL = DecisionTreeClassifier(criterion = 'entropy')\n",
    "\n",
    "DT_CL.fit(X_train, y_train)\n",
    "\n",
    "roc_auc_score(y_test, DT_CL.predict_proba(X_test)[:,1])"
   ]
  },
  {
   "cell_type": "markdown",
   "metadata": {},
   "source": [
    "### ROC curve Decision Tree "
   ]
  },
  {
   "cell_type": "code",
   "execution_count": 69,
   "metadata": {},
   "outputs": [
    {
     "data": {
      "text/plain": [
       "[<matplotlib.lines.Line2D at 0x1af5d8b0700>]"
      ]
     },
     "execution_count": 69,
     "metadata": {},
     "output_type": "execute_result"
    },
    {
     "data": {
      "image/png": "[encoded data removed]",
      "text/plain": [
       "<Figure size 432x288 with 1 Axes>"
      ]
     },
     "metadata": {
      "needs_background": "light"
     },
     "output_type": "display_data"
    }
   ],
   "source": [
    "fpr_train_D, tpr_train_D, threshold_D = roc_curve(y_test, DT_CL.predict_proba(X_test)[:,1])\n",
    "\n",
    "plt.plot(fpr_train_D,tpr_train_D,marker='.')\n",
    "plt.plot([0,1],[0,1])"
   ]
  },
  {
   "cell_type": "code",
   "execution_count": 34,
   "metadata": {},
   "outputs": [
    {
     "name": "stdout",
     "output_type": "stream",
     "text": [
      "Feature: 0, Score: 0.35790\n",
      "Feature: 1, Score: 0.01602\n",
      "Feature: 2, Score: 0.01277\n",
      "Feature: 3, Score: 0.00504\n",
      "Feature: 4, Score: 0.01914\n",
      "Feature: 5, Score: 0.01276\n",
      "Feature: 6, Score: 0.02184\n",
      "Feature: 7, Score: 0.01543\n",
      "Feature: 8, Score: 0.01809\n",
      "Feature: 9, Score: 0.00502\n",
      "Feature: 10, Score: 0.00551\n",
      "Feature: 11, Score: 0.00968\n",
      "Feature: 12, Score: 0.00442\n",
      "Feature: 13, Score: 0.00444\n",
      "Feature: 14, Score: 0.01394\n",
      "Feature: 15, Score: 0.22291\n",
      "Feature: 16, Score: 0.17002\n",
      "Feature: 17, Score: 0.08507\n"
     ]
    }
   ],
   "source": [
    "importanceD = DT_CL.feature_importances_\n",
    "\n",
    "for i,v in enumerate(importanceD):\n",
    "    print('Feature: %0d, Score: %.5f' % (i,v))"
   ]
  },
  {
   "cell_type": "code",
   "execution_count": 36,
   "metadata": {},
   "outputs": [
    {
     "data": {
      "text/plain": [
       "{'city_development_index': 0.3579015786491953,\n",
       " 'F': 0.016021463259847088,\n",
       " 'M': 0.012773492585273112,\n",
       " 'O': 0.005042598716052221,\n",
       " 'EU_2': 0.019139094358369295,\n",
       " 'EU_1': 0.012755220821563568,\n",
       " 'EU_0': 0.02184193320745826,\n",
       " 'rel_exp_1': 0.015432452491526454,\n",
       " 'rel_exp_0': 0.01808909390255279,\n",
       " 'mj_dp_A': 0.005017855347561185,\n",
       " 'mj_dp_B': 0.0055140291908089695,\n",
       " 'mj_dp_H': 0.009678045168032506,\n",
       " 'mj_dp_N': 0.004418651210921402,\n",
       " 'mj_dp_O': 0.004438926778637076,\n",
       " 'mj_dp_S': 0.013935176976468408,\n",
       " 'exp_scale': 0.22291126132946554,\n",
       " 'compsize_scale': 0.170017013473321,\n",
       " 'lst_nj_scl': 0.085072112532946}"
      ]
     },
     "execution_count": 36,
     "metadata": {},
     "output_type": "execute_result"
    }
   ],
   "source": [
    "scores = np.linspace(1,2,18)\n",
    "for i,v in enumerate(importanceD):\n",
    "    scores[i] = v\n",
    "scores\n",
    "\n",
    "score_dict = dict(zip(feature_train,scores))\n",
    "\n",
    "score_dict"
   ]
  },
  {
   "cell_type": "code",
   "execution_count": 37,
   "metadata": {},
   "outputs": [
    {
     "data": {
      "text/plain": [
       "<BarContainer object of 18 artists>"
      ]
     },
     "execution_count": 37,
     "metadata": {},
     "output_type": "execute_result"
    },
    {
     "data": {
      "image/png": "[encoded data removed]",
      "text/plain": [
       "<Figure size 432x288 with 1 Axes>"
      ]
     },
     "metadata": {
      "needs_background": "light"
     },
     "output_type": "display_data"
    }
   ],
   "source": [
    " plt.barh(list(score_dict.keys()),list(score_dict.values()))"
   ]
  }
 ],
 "metadata": {
  "kernelspec": {
   "display_name": "Python 3",
   "language": "python",
   "name": "python3"
  },
  "language_info": {
   "codemirror_mode": {
    "name": "ipython",
    "version": 3
   },
   "file_extension": ".py",
   "mimetype": "text/x-python",
   "name": "python",
   "nbconvert_exporter": "python",
   "pygments_lexer": "ipython3",
   "version": "3.8.5"
  }
 },
 "nbformat": 4,
 "nbformat_minor": 4
}
